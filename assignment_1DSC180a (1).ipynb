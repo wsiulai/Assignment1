{
 "cells": [
  {
   "cell_type": "code",
   "execution_count": 1,
   "metadata": {},
   "outputs": [],
   "source": [
    "import pandas as pd\n",
    "import networkx as nx\n",
    "import matplotlib.pyplot as plt"
   ]
  },
  {
   "cell_type": "code",
   "execution_count": 2,
   "metadata": {},
   "outputs": [],
   "source": [
    "ridership_df = pd.read_csv(\n",
    "    \"MTA_Subway_Origin-Destination_Ridership_Estimate__2024_20241008.csv\"\n",
    ")\n",
    "stations_df = pd.read_csv(\"MTA_Subway_Stations_updated.csv\")"
   ]
  },
  {
   "cell_type": "code",
   "execution_count": 3,
   "metadata": {},
   "outputs": [
    {
     "data": {
      "text/html": [
       "<div>\n",
       "<style scoped>\n",
       "    .dataframe tbody tr th:only-of-type {\n",
       "        vertical-align: middle;\n",
       "    }\n",
       "\n",
       "    .dataframe tbody tr th {\n",
       "        vertical-align: top;\n",
       "    }\n",
       "\n",
       "    .dataframe thead th {\n",
       "        text-align: right;\n",
       "    }\n",
       "</style>\n",
       "<table border=\"1\" class=\"dataframe\">\n",
       "  <thead>\n",
       "    <tr style=\"text-align: right;\">\n",
       "      <th></th>\n",
       "      <th>Day of Week</th>\n",
       "      <th>Hour of Day</th>\n",
       "      <th>Timestamp</th>\n",
       "      <th>Origin Station Complex ID</th>\n",
       "      <th>Destination Station Complex ID</th>\n",
       "      <th>Estimated Average Ridership</th>\n",
       "    </tr>\n",
       "  </thead>\n",
       "  <tbody>\n",
       "    <tr>\n",
       "      <th>0</th>\n",
       "      <td>Monday</td>\n",
       "      <td>1</td>\n",
       "      <td>01/08/2024 01:00:00 AM</td>\n",
       "      <td>26</td>\n",
       "      <td>355</td>\n",
       "      <td>0.5556</td>\n",
       "    </tr>\n",
       "    <tr>\n",
       "      <th>1</th>\n",
       "      <td>Monday</td>\n",
       "      <td>1</td>\n",
       "      <td>01/08/2024 01:00:00 AM</td>\n",
       "      <td>231</td>\n",
       "      <td>284</td>\n",
       "      <td>0.3068</td>\n",
       "    </tr>\n",
       "    <tr>\n",
       "      <th>2</th>\n",
       "      <td>Monday</td>\n",
       "      <td>1</td>\n",
       "      <td>01/08/2024 01:00:00 AM</td>\n",
       "      <td>313</td>\n",
       "      <td>71</td>\n",
       "      <td>0.3012</td>\n",
       "    </tr>\n",
       "    <tr>\n",
       "      <th>3</th>\n",
       "      <td>Monday</td>\n",
       "      <td>1</td>\n",
       "      <td>01/08/2024 01:00:00 AM</td>\n",
       "      <td>320</td>\n",
       "      <td>309</td>\n",
       "      <td>0.9000</td>\n",
       "    </tr>\n",
       "    <tr>\n",
       "      <th>4</th>\n",
       "      <td>Monday</td>\n",
       "      <td>1</td>\n",
       "      <td>01/08/2024 01:00:00 AM</td>\n",
       "      <td>399</td>\n",
       "      <td>618</td>\n",
       "      <td>0.2940</td>\n",
       "    </tr>\n",
       "  </tbody>\n",
       "</table>\n",
       "</div>"
      ],
      "text/plain": [
       "  Day of Week  Hour of Day               Timestamp  Origin Station Complex ID  \\\n",
       "0      Monday            1  01/08/2024 01:00:00 AM                         26   \n",
       "1      Monday            1  01/08/2024 01:00:00 AM                        231   \n",
       "2      Monday            1  01/08/2024 01:00:00 AM                        313   \n",
       "3      Monday            1  01/08/2024 01:00:00 AM                        320   \n",
       "4      Monday            1  01/08/2024 01:00:00 AM                        399   \n",
       "\n",
       "   Destination Station Complex ID  Estimated Average Ridership  \n",
       "0                             355                       0.5556  \n",
       "1                             284                       0.3068  \n",
       "2                              71                       0.3012  \n",
       "3                             309                       0.9000  \n",
       "4                             618                       0.2940  "
      ]
     },
     "execution_count": 3,
     "metadata": {},
     "output_type": "execute_result"
    }
   ],
   "source": [
    "ridership_df = ridership_df.drop(\n",
    "    columns=[\n",
    "        \"Year\",\n",
    "        \"Month\",\n",
    "        \"Origin Station Complex Name\",\n",
    "        \"Destination Station Complex Name\",\n",
    "        \"Origin Latitude\",\n",
    "        \"Origin Longitude\",\n",
    "        \"Destination Latitude\",\n",
    "        \"Destination Longitude\",\n",
    "        \"Origin Point\",\n",
    "        \"Destination Point\",\n",
    "    ]\n",
    ")\n",
    "ridership_df.head()"
   ]
  },
  {
   "cell_type": "code",
   "execution_count": 4,
   "metadata": {},
   "outputs": [
    {
     "data": {
      "text/html": [
       "<div>\n",
       "<style scoped>\n",
       "    .dataframe tbody tr th:only-of-type {\n",
       "        vertical-align: middle;\n",
       "    }\n",
       "\n",
       "    .dataframe tbody tr th {\n",
       "        vertical-align: top;\n",
       "    }\n",
       "\n",
       "    .dataframe thead th {\n",
       "        text-align: right;\n",
       "    }\n",
       "</style>\n",
       "<table border=\"1\" class=\"dataframe\">\n",
       "  <thead>\n",
       "    <tr style=\"text-align: right;\">\n",
       "      <th></th>\n",
       "      <th>GTFS Stop ID</th>\n",
       "      <th>Station ID</th>\n",
       "      <th>Complex ID</th>\n",
       "      <th>Stop Name</th>\n",
       "      <th>Borough</th>\n",
       "      <th>CBD</th>\n",
       "      <th>Daytime Routes</th>\n",
       "      <th>Structure</th>\n",
       "      <th>GTFS Latitude</th>\n",
       "      <th>GTFS Longitude</th>\n",
       "      <th>ADA</th>\n",
       "    </tr>\n",
       "  </thead>\n",
       "  <tbody>\n",
       "    <tr>\n",
       "      <th>0</th>\n",
       "      <td>R01</td>\n",
       "      <td>1</td>\n",
       "      <td>1</td>\n",
       "      <td>Astoria-Ditmars Blvd</td>\n",
       "      <td>Q</td>\n",
       "      <td>False</td>\n",
       "      <td>N W</td>\n",
       "      <td>Elevated</td>\n",
       "      <td>40.775036</td>\n",
       "      <td>-73.912034</td>\n",
       "      <td>0</td>\n",
       "    </tr>\n",
       "    <tr>\n",
       "      <th>1</th>\n",
       "      <td>R03</td>\n",
       "      <td>2</td>\n",
       "      <td>2</td>\n",
       "      <td>Astoria Blvd</td>\n",
       "      <td>Q</td>\n",
       "      <td>False</td>\n",
       "      <td>N W</td>\n",
       "      <td>Elevated</td>\n",
       "      <td>40.770258</td>\n",
       "      <td>-73.917843</td>\n",
       "      <td>1</td>\n",
       "    </tr>\n",
       "    <tr>\n",
       "      <th>2</th>\n",
       "      <td>R04</td>\n",
       "      <td>3</td>\n",
       "      <td>3</td>\n",
       "      <td>30 Av</td>\n",
       "      <td>Q</td>\n",
       "      <td>False</td>\n",
       "      <td>N W</td>\n",
       "      <td>Elevated</td>\n",
       "      <td>40.766779</td>\n",
       "      <td>-73.921479</td>\n",
       "      <td>0</td>\n",
       "    </tr>\n",
       "    <tr>\n",
       "      <th>3</th>\n",
       "      <td>R05</td>\n",
       "      <td>4</td>\n",
       "      <td>4</td>\n",
       "      <td>Broadway</td>\n",
       "      <td>Q</td>\n",
       "      <td>False</td>\n",
       "      <td>N W</td>\n",
       "      <td>Elevated</td>\n",
       "      <td>40.761820</td>\n",
       "      <td>-73.925508</td>\n",
       "      <td>0</td>\n",
       "    </tr>\n",
       "    <tr>\n",
       "      <th>4</th>\n",
       "      <td>R06</td>\n",
       "      <td>5</td>\n",
       "      <td>5</td>\n",
       "      <td>36 Av</td>\n",
       "      <td>Q</td>\n",
       "      <td>False</td>\n",
       "      <td>N W</td>\n",
       "      <td>Elevated</td>\n",
       "      <td>40.756804</td>\n",
       "      <td>-73.929575</td>\n",
       "      <td>0</td>\n",
       "    </tr>\n",
       "  </tbody>\n",
       "</table>\n",
       "</div>"
      ],
      "text/plain": [
       "  GTFS Stop ID  Station ID  Complex ID             Stop Name Borough    CBD  \\\n",
       "0          R01           1           1  Astoria-Ditmars Blvd       Q  False   \n",
       "1          R03           2           2          Astoria Blvd       Q  False   \n",
       "2          R04           3           3                 30 Av       Q  False   \n",
       "3          R05           4           4              Broadway       Q  False   \n",
       "4          R06           5           5                 36 Av       Q  False   \n",
       "\n",
       "  Daytime Routes Structure  GTFS Latitude  GTFS Longitude  ADA  \n",
       "0            N W  Elevated      40.775036      -73.912034    0  \n",
       "1            N W  Elevated      40.770258      -73.917843    1  \n",
       "2            N W  Elevated      40.766779      -73.921479    0  \n",
       "3            N W  Elevated      40.761820      -73.925508    0  \n",
       "4            N W  Elevated      40.756804      -73.929575    0  "
      ]
     },
     "execution_count": 4,
     "metadata": {},
     "output_type": "execute_result"
    }
   ],
   "source": [
    "stations_df = stations_df.drop(\n",
    "    columns=[\n",
    "        \"Division\",\n",
    "        \"Line\",\n",
    "        \"North Direction Label\",\n",
    "        \"South Direction Label\",\n",
    "        \"ADA Northbound\",\n",
    "        \"ADA Southbound\",\n",
    "        \"ADA Notes\",\n",
    "        \"Georeference\",\n",
    "    ]\n",
    ")\n",
    "stations_df.head()"
   ]
  },
  {
   "cell_type": "code",
   "execution_count": 5,
   "metadata": {},
   "outputs": [
    {
     "data": {
      "text/plain": [
       "Day of Week                        object\n",
       "Hour of Day                         int64\n",
       "Timestamp                          object\n",
       "Origin Station Complex ID           int64\n",
       "Destination Station Complex ID      int64\n",
       "Estimated Average Ridership       float64\n",
       "dtype: object"
      ]
     },
     "execution_count": 5,
     "metadata": {},
     "output_type": "execute_result"
    }
   ],
   "source": [
    "ridership_df.dtypes"
   ]
  },
  {
   "cell_type": "code",
   "execution_count": 6,
   "metadata": {},
   "outputs": [
    {
     "data": {
      "text/plain": [
       "GTFS Stop ID       object\n",
       "Station ID          int64\n",
       "Complex ID          int64\n",
       "Stop Name          object\n",
       "Borough            object\n",
       "CBD                  bool\n",
       "Daytime Routes     object\n",
       "Structure          object\n",
       "GTFS Latitude     float64\n",
       "GTFS Longitude    float64\n",
       "ADA                 int64\n",
       "dtype: object"
      ]
     },
     "execution_count": 6,
     "metadata": {},
     "output_type": "execute_result"
    }
   ],
   "source": [
    "stations_df.dtypes"
   ]
  },
  {
   "cell_type": "markdown",
   "metadata": {},
   "source": [
    "Directed: trip from one station to another w direction\n",
    "\n",
    "Weighted: weight representing average ridership\n",
    "\n",
    "Self-loops: idk"
   ]
  },
  {
   "cell_type": "code",
   "execution_count": 8,
   "metadata": {},
   "outputs": [],
   "source": [
    "G = nx.DiGraph()\n",
    "\n",
    "# Initialize the graph with nodes\n",
    "for index, row in stations_df.iterrows():\n",
    "    G.add_node(\n",
    "        row[\"Complex ID\"],\n",
    "        name=row[\"Stop Name\"],\n",
    "        borough=row[\"Borough\"],\n",
    "        ADA=row[\"ADA\"],\n",
    "        latitude=row[\"GTFS Latitude\"],\n",
    "        longitude=row[\"GTFS Longitude\"],\n",
    "    )\n",
    "\n",
    "# Add edges incrementally, but store ridership as a list of dictionaries to keep all trip details\n",
    "for _, row in ridership_df.iterrows():\n",
    "    origin = row[\"Origin Station Complex ID\"]\n",
    "    destination = row[\"Destination Station Complex ID\"]\n",
    "\n",
    "    # If the edge already exists, append the new trip details to the list\n",
    "    if G.has_edge(origin, destination):\n",
    "        G[origin][destination][\"trips\"].append(\n",
    "            {\n",
    "                \"ridership\": row[\"Estimated Average Ridership\"],\n",
    "                \"day_of_week\": row[\"Day of Week\"],\n",
    "                \"hour_of_day\": row[\"Hour of Day\"],\n",
    "            }\n",
    "        )\n",
    "    else:\n",
    "        # If the edge doesn't exist, create it and add the first trip\n",
    "        G.add_edge(\n",
    "            origin,\n",
    "            destination,\n",
    "            trips=[\n",
    "                {\n",
    "                    \"ridership\": row[\"Estimated Average Ridership\"],\n",
    "                    \"day_of_week\": row[\"Day of Week\"],\n",
    "                    \"hour_of_day\": row[\"Hour of Day\"],\n",
    "                }\n",
    "            ],\n",
    "        )"
   ]
  },
  {
   "cell_type": "code",
   "execution_count": 9,
   "metadata": {},
   "outputs": [
    {
     "name": "stdout",
     "output_type": "stream",
     "text": [
      "DiGraph with 445 nodes and 174488 edges\n"
     ]
    }
   ],
   "source": [
    "print(G)\n"
   ]
  },
  {
   "cell_type": "code",
   "execution_count": 10,
   "metadata": {},
   "outputs": [
    {
     "data": {
      "text/plain": [
       "445"
      ]
     },
     "execution_count": 10,
     "metadata": {},
     "output_type": "execute_result"
    }
   ],
   "source": [
    "unique_nodes_count = stations_df[\"Complex ID\"].nunique()\n",
    "unique_nodes_count"
   ]
  },
  {
   "cell_type": "code",
   "execution_count": null,
   "metadata": {},
   "outputs": [],
   "source": []
  },
  {
   "cell_type": "code",
   "execution_count": 11,
   "metadata": {},
   "outputs": [
    {
     "data": {
      "image/png": "[encoded data removed]",
      "text/plain": [
       "<Figure size 640x480 with 1 Axes>"
      ]
     },
     "metadata": {},
     "output_type": "display_data"
    }
   ],
   "source": [
    "subgraph_nodes = list(G.nodes())[:50]\n",
    "subgraph = G.subgraph(subgraph_nodes)\n",
    "\n",
    "nx.draw(subgraph, with_labels=True, node_size=50, font_size=8)\n",
    "plt.show()"
   ]
  },
  {
   "cell_type": "code",
   "execution_count": 12,
   "metadata": {},
   "outputs": [
    {
     "data": {
      "text/plain": [
       "[(611, 772832.8064999951),\n",
       " (610, 578428.9966000087),\n",
       " (607, 421029.6783999983),\n",
       " (602, 382816.6319999976),\n",
       " (164, 332532.6990000031)]"
      ]
     },
     "execution_count": 12,
     "metadata": {},
     "output_type": "execute_result"
    }
   ],
   "source": [
    "aggregated_stations = {}\n",
    "\n",
    "for u, v, data in G.edges(data=True):\n",
    "    if u not in aggregated_stations:\n",
    "        aggregated_stations[u] = 0\n",
    "\n",
    "    for trip in data[\"trips\"]:\n",
    "        aggregated_stations[u] += trip[\"ridership\"]\n",
    "\n",
    "top_5_stations = sorted(aggregated_stations.items(), key=lambda x: x[1], reverse=True)[\n",
    "    :5\n",
    "]\n",
    "\n",
    "top_5_stations"
   ]
  },
  {
   "cell_type": "code",
   "execution_count": 13,
   "metadata": {},
   "outputs": [
    {
     "data": {
      "text/plain": [
       "[(610, 628, 27816.9111),\n",
       " (628, 610, 26933.6357),\n",
       " (611, 610, 23610.6667),\n",
       " (610, 611, 23032.0468),\n",
       " (610, 602, 21768.323)]"
      ]
     },
     "execution_count": 13,
     "metadata": {},
     "output_type": "execute_result"
    }
   ],
   "source": [
    "aggregated_routes = []\n",
    "\n",
    "for u, v, data in G.edges(data=True):\n",
    "    total_ridership = sum(trip[\"ridership\"] for trip in data[\"trips\"])\n",
    "    aggregated_routes.append((u, v, total_ridership))\n",
    "\n",
    "top_5_routes = sorted(aggregated_routes, key=lambda x: x[2], reverse=True)[:5]\n",
    "\n",
    "top_5_routes"
   ]
  },
  {
   "cell_type": "code",
   "execution_count": 14,
   "metadata": {},
   "outputs": [
    {
     "name": "stdout",
     "output_type": "stream",
     "text": [
      "Origin Station Complex ID\n",
      "611    772832.8065\n",
      "610    578428.9966\n",
      "607    421029.6784\n",
      "602    382816.6320\n",
      "164    332532.6990\n",
      "Name: Estimated Average Ridership, dtype: float64\n"
     ]
    }
   ],
   "source": [
    "# Check\n",
    "origin_ridership = ridership_df.groupby(\"Origin Station Complex ID\")[\n",
    "    \"Estimated Average Ridership\"\n",
    "].sum()\n",
    "\n",
    "top_5_origins = origin_ridership.sort_values(ascending=False).head(5)\n",
    "print(top_5_origins)"
   ]
  },
  {
   "cell_type": "code",
   "execution_count": 15,
   "metadata": {},
   "outputs": [
    {
     "name": "stdout",
     "output_type": "stream",
     "text": [
      "Destination Station Complex ID\n",
      "611    755731.0109\n",
      "610    553936.6710\n",
      "607    427831.4631\n",
      "602    408713.8706\n",
      "628    324693.1087\n",
      "Name: Estimated Average Ridership, dtype: float64\n"
     ]
    }
   ],
   "source": [
    "destination_ridership = ridership_df.groupby(\"Destination Station Complex ID\")[\n",
    "    \"Estimated Average Ridership\"\n",
    "].sum()\n",
    "\n",
    "top_5_destinations = destination_ridership.sort_values(ascending=False).head(5)\n",
    "print(top_5_destinations)"
   ]
  },
  {
   "cell_type": "code",
   "execution_count": 16,
   "metadata": {},
   "outputs": [
    {
     "name": "stdout",
     "output_type": "stream",
     "text": [
      "Origin Station Complex ID  Destination Station Complex ID\n",
      "610                        628                               27816.9111\n",
      "628                        610                               26933.6357\n",
      "611                        610                               23610.6667\n",
      "610                        611                               23032.0468\n",
      "                           602                               21768.3230\n",
      "Name: Estimated Average Ridership, dtype: float64\n"
     ]
    }
   ],
   "source": [
    "routes_ridership = ridership_df.groupby(\n",
    "    [\"Origin Station Complex ID\", \"Destination Station Complex ID\"]\n",
    ")[\"Estimated Average Ridership\"].sum()\n",
    "\n",
    "top_5_routes = routes_ridership.sort_values(ascending=False).head(5)\n",
    "print(top_5_routes)"
   ]
  },
  {
   "cell_type": "code",
   "execution_count": 17,
   "metadata": {},
   "outputs": [
    {
     "name": "stdout",
     "output_type": "stream",
     "text": [
      "Top 5 origin stations in M: [(611, 492022.89099999913), (610, 375744.056100002), (607, 223684.46730000057), (164, 219993.4277999995), (318, 212053.69609999945)]\n",
      "Top 5 origin stations in Bk: [(617, 101892.60109999987), (636, 55409.06489999984), (620, 44169.229199999856), (51, 39286.06430000029), (345, 38693.42919999978)]\n",
      "Top 5 origin stations in Q: [(447, 115028.43759999995), (616, 106116.53660000024), (450, 49340.885699999926), (451, 47856.67200000009), (279, 42665.570400000215)]\n",
      "Top 5 origin stations in Bx: [(604, 20482.494199999943), (434, 18945.420700000046), (371, 13748.588000000156), (366, 13551.495300000042), (382, 12690.52100000005)]\n",
      "Top 5 origin stations in SI: []\n"
     ]
    }
   ],
   "source": [
    "# 1a\n",
    "\n",
    "for borough in [\"M\", \"Bk\", \"Q\", \"Bx\", \"SI\"]:\n",
    "    borough_nodes = [n for n, d in G.nodes(data=True) if d[\"borough\"] == borough]\n",
    "\n",
    "    borough_subgraph = G.subgraph(borough_nodes)\n",
    "\n",
    "    aggregated_ridership = {}\n",
    "\n",
    "    for u, v, data in borough_subgraph.edges(data=True):\n",
    "        if u not in aggregated_ridership:\n",
    "            aggregated_ridership[u] = 0\n",
    "        \n",
    "        for trip in data[\"trips\"]:\n",
    "            aggregated_ridership[u] += trip[\"ridership\"]\n",
    "\n",
    "    top_5_origins = sorted(aggregated_ridership.items(), key=lambda x: x[1], reverse=True)[:5]\n",
    "\n",
    "    print(f\"Top 5 origin stations in {borough}: {top_5_origins}\")\n"
   ]
  },
  {
   "cell_type": "code",
   "execution_count": null,
   "metadata": {},
   "outputs": [],
   "source": [
    "M: [(611, 492022.89099999913), (610, 375744.056100002), (607, 223684.46730000057), (164, 219993.4277999995), (318, 212053.69609999945)]\n",
    "Bk: [(617, 101892.60109999987), (636, 55409.06489999984), (620, 44169.229199999856), (51, 39286.06430000029), (345, 38693.42919999978)]\n",
    "Q: [(447, 115028.43759999995), (616, 106116.53660000024), (450, 49340.885699999926), (451, 47856.67200000009), (279, 42665.570400000215)]\n",
    "Bx: [(604, 20482.494199999943), (434, 18945.420700000046), (371, 13748.588000000156), (366, 13551.495300000042), (382, 12690.52100000005)]\n",
    "SI: []"
   ]
  },
  {
   "cell_type": "code",
   "execution_count": 18,
   "metadata": {},
   "outputs": [
    {
     "name": "stdout",
     "output_type": "stream",
     "text": [
      "Station ID: 501, Out-degree (ridership): 0\n",
      "Station ID: 502, Out-degree (ridership): 0\n",
      "Station ID: 503, Out-degree (ridership): 0\n",
      "Station ID: 504, Out-degree (ridership): 0\n",
      "Station ID: 505, Out-degree (ridership): 0\n",
      "Station ID: 506, Out-degree (ridership): 0\n",
      "Station ID: 507, Out-degree (ridership): 0\n",
      "Station ID: 508, Out-degree (ridership): 0\n",
      "Station ID: 509, Out-degree (ridership): 0\n",
      "Station ID: 510, Out-degree (ridership): 0\n",
      "Station ID: 511, Out-degree (ridership): 0\n",
      "Station ID: 512, Out-degree (ridership): 0\n",
      "Station ID: 513, Out-degree (ridership): 0\n",
      "Station ID: 514, Out-degree (ridership): 0\n",
      "Station ID: 515, Out-degree (ridership): 0\n",
      "Station ID: 516, Out-degree (ridership): 0\n",
      "Station ID: 517, Out-degree (ridership): 0\n",
      "Station ID: 518, Out-degree (ridership): 0\n",
      "Station ID: 519, Out-degree (ridership): 0\n",
      "Station ID: 522, Out-degree (ridership): 0\n",
      "Station ID: 523, Out-degree (ridership): 0\n"
     ]
    }
   ],
   "source": [
    "staten_island_nodes = [n for n, d in G.nodes(data=True) if d[\"borough\"] == \"SI\"]\n",
    "len(staten_island_nodes)\n",
    "\n",
    "for node in staten_island_nodes:\n",
    "    print(\n",
    "        f\"Station ID: {node}, Out-degree (ridership): {G.out_degree(node, weight='ridership')}\"\n",
    "    )"
   ]
  },
  {
   "cell_type": "code",
   "execution_count": 19,
   "metadata": {},
   "outputs": [
    {
     "data": {
      "text/plain": [
       "0"
      ]
     },
     "execution_count": 19,
     "metadata": {},
     "output_type": "execute_result"
    }
   ],
   "source": [
    "staten_island_origin = [\n",
    "    501,\n",
    "    502,\n",
    "    503,\n",
    "    504,\n",
    "    505,\n",
    "    506,\n",
    "    507,\n",
    "    508,\n",
    "    509,\n",
    "    510,\n",
    "    511,\n",
    "    512,\n",
    "    513,\n",
    "    514,\n",
    "    515,\n",
    "    516,\n",
    "    517,\n",
    "    518,\n",
    "    519,\n",
    "    522,\n",
    "    523,\n",
    "]\n",
    "staten_island_ridership = ridership_df[\n",
    "    ridership_df[\"Origin Station Complex ID\"].isin(staten_island_origin)\n",
    "]\n",
    "\n",
    "len(staten_island_ridership)"
   ]
  },
  {
   "cell_type": "code",
   "execution_count": 20,
   "metadata": {},
   "outputs": [
    {
     "data": {
      "text/plain": [
       "0"
      ]
     },
     "execution_count": 20,
     "metadata": {},
     "output_type": "execute_result"
    }
   ],
   "source": [
    "staten_island_dest_ridership = ridership_df[\n",
    "    ridership_df[\"Destination Station Complex ID\"].isin(staten_island_origin)\n",
    "]\n",
    "\n",
    "len(staten_island_dest_ridership)"
   ]
  },
  {
   "cell_type": "markdown",
   "metadata": {},
   "source": [
    "Staten Island Borough not included in Origin/Destination"
   ]
  },
  {
   "cell_type": "code",
   "execution_count": 22,
   "metadata": {},
   "outputs": [
    {
     "data": {
      "text/plain": [
       "[(611, 366682.6977999996),\n",
       " (610, 299994.9464000017),\n",
       " (607, 198093.2732000026),\n",
       " (602, 178115.10260000048),\n",
       " (628, 158768.42939999944)]"
      ]
     },
     "execution_count": 22,
     "metadata": {},
     "output_type": "execute_result"
    }
   ],
   "source": [
    "# 1b\n",
    "\n",
    "aggregated_ridership = {}\n",
    "\n",
    "for u, v, data in G.edges(data=True):\n",
    "    if u not in aggregated_ridership:\n",
    "        aggregated_ridership[u] = 0\n",
    "\n",
    "    for trip in data[\"trips\"]:\n",
    "        if trip[\"day_of_week\"] in [\"Monday\", \"Tuesday\", \"Wednesday\"]:\n",
    "            aggregated_ridership[u] += trip[\"ridership\"]\n",
    "\n",
    "top_5_origins_mtw = sorted(\n",
    "    aggregated_ridership.items(), key=lambda x: x[1], reverse=True\n",
    ")[:5]\n",
    "\n",
    "top_5_origins_mtw"
   ]
  },
  {
   "cell_type": "code",
   "execution_count": 23,
   "metadata": {},
   "outputs": [
    {
     "data": {
      "text/plain": [
       "[(611, 151484.71489999993),\n",
       " (607, 81496.3893000002),\n",
       " (610, 78418.81549999978),\n",
       " (602, 77392.21219999992),\n",
       " (164, 69408.95950000006)]"
      ]
     },
     "execution_count": 23,
     "metadata": {},
     "output_type": "execute_result"
    }
   ],
   "source": [
    "# 1c\n",
    "\n",
    "aggregated_ridership = {}\n",
    "\n",
    "for u, v, data in G.edges(data=True):\n",
    "    if u not in aggregated_ridership:\n",
    "        aggregated_ridership[u] = 0\n",
    "\n",
    "    for trip in data[\"trips\"]:\n",
    "        if trip[\"day_of_week\"] in [\"Saturday\", \"Sunday\"]:\n",
    "            aggregated_ridership[u] += trip[\"ridership\"]\n",
    "\n",
    "top_5_origins_ss = sorted(\n",
    "    aggregated_ridership.items(), key=lambda x: x[1], reverse=True\n",
    ")[:5]\n",
    "\n",
    "top_5_origins_ss"
   ]
  },
  {
   "cell_type": "code",
   "execution_count": 24,
   "metadata": {},
   "outputs": [
    {
     "data": {
      "text/plain": [
       "[(611, 23851.845899999837),\n",
       " (616, 14400.297700000001),\n",
       " (447, 11501.979899999966),\n",
       " (450, 11346.55689999999),\n",
       " (278, 8971.765100000013)]"
      ]
     },
     "execution_count": 24,
     "metadata": {},
     "output_type": "execute_result"
    }
   ],
   "source": [
    "# 1d\n",
    "\n",
    "aggregated_ridership = {}\n",
    "\n",
    "for u, v, data in G.edges(data=True):\n",
    "    if u not in aggregated_ridership:\n",
    "        aggregated_ridership[u] = 0\n",
    "    for trip in data[\"trips\"]:\n",
    "        if 1 <= trip[\"hour_of_day\"] <= 5:\n",
    "            aggregated_ridership[u] += trip[\"ridership\"]\n",
    "\n",
    "top_5_origins_night = sorted(\n",
    "    aggregated_ridership.items(), key=lambda x: x[1], reverse=True\n",
    ")[:5]\n",
    "\n",
    "top_5_origins_night"
   ]
  },
  {
   "cell_type": "code",
   "execution_count": 25,
   "metadata": {},
   "outputs": [
    {
     "data": {
      "text/plain": [
       "Origin Station Complex ID\n",
       "611    23851.8459\n",
       "616    14400.2977\n",
       "447    11501.9799\n",
       "450    11346.5569\n",
       "278     8971.7651\n",
       "Name: Estimated Average Ridership, dtype: float64"
      ]
     },
     "execution_count": 25,
     "metadata": {},
     "output_type": "execute_result"
    }
   ],
   "source": [
    "# Check\n",
    "filtered_df = ridership_df[\n",
    "    (ridership_df[\"Hour of Day\"] >= 1) & (ridership_df[\"Hour of Day\"] <= 5)\n",
    "]\n",
    "\n",
    "origin_ridership = filtered_df.groupby(\"Origin Station Complex ID\")[\n",
    "    \"Estimated Average Ridership\"\n",
    "].sum()\n",
    "\n",
    "top_5_origins_df = origin_ridership.sort_values(ascending=False).head(5)\n",
    "\n",
    "top_5_origins_df"
   ]
  },
  {
   "cell_type": "code",
   "execution_count": 50,
   "metadata": {},
   "outputs": [
    {
     "data": {
      "text/plain": [
       "[(611, 173476.38119999933),\n",
       " (610, 120589.19049999968),\n",
       " (616, 89547.93639999963),\n",
       " (318, 86708.27519999936),\n",
       " (447, 84534.1125000009)]"
      ]
     },
     "execution_count": 50,
     "metadata": {},
     "output_type": "execute_result"
    }
   ],
   "source": [
    "# 1e\n",
    "\n",
    "# 6am to 9am across all days and boroughs\n",
    "\n",
    "aggregated_ridership = {}\n",
    "\n",
    "for u, v, data in G.edges(data=True):\n",
    "    if u not in aggregated_ridership:\n",
    "        aggregated_ridership[u] = 0\n",
    "    for trip in data[\"trips\"]:\n",
    "        if 6 <= trip[\"hour_of_day\"] <= 9:\n",
    "            aggregated_ridership[u] += trip[\"ridership\"]\n",
    "\n",
    "top_5_origins_6to9 = sorted(\n",
    "    aggregated_ridership.items(), key=lambda x: x[1], reverse=True\n",
    ")[:5]\n",
    "\n",
    "top_5_origins_6to9"
   ]
  },
  {
   "cell_type": "code",
   "execution_count": 54,
   "metadata": {},
   "outputs": [
    {
     "data": {
      "text/plain": [
       "Origin Station Complex ID\n",
       "611    173476.3812\n",
       "610    120589.1905\n",
       "616     89547.9364\n",
       "318     86708.2752\n",
       "447     84534.1125\n",
       "Name: Estimated Average Ridership, dtype: float64"
      ]
     },
     "execution_count": 54,
     "metadata": {},
     "output_type": "execute_result"
    }
   ],
   "source": [
    "# Check again\n",
    "filtered_df = ridership_df[\n",
    "    (ridership_df[\"Hour of Day\"] >= 6) & (ridership_df[\"Hour of Day\"] <= 9)\n",
    "]\n",
    "\n",
    "origin_ridership = filtered_df.groupby(\"Origin Station Complex ID\")[\n",
    "    \"Estimated Average Ridership\"\n",
    "].sum()\n",
    "\n",
    "top_5_origins_df2 = origin_ridership.sort_values(ascending=False).head(5)\n",
    "\n",
    "top_5_origins_df2"
   ]
  },
  {
   "cell_type": "code",
   "execution_count": 56,
   "metadata": {},
   "outputs": [
    {
     "data": {
      "text/html": [
       "<div>\n",
       "<style scoped>\n",
       "    .dataframe tbody tr th:only-of-type {\n",
       "        vertical-align: middle;\n",
       "    }\n",
       "\n",
       "    .dataframe tbody tr th {\n",
       "        vertical-align: top;\n",
       "    }\n",
       "\n",
       "    .dataframe thead th {\n",
       "        text-align: right;\n",
       "    }\n",
       "</style>\n",
       "<table border=\"1\" class=\"dataframe\">\n",
       "  <thead>\n",
       "    <tr style=\"text-align: right;\">\n",
       "      <th></th>\n",
       "      <th>GTFS Stop ID</th>\n",
       "      <th>Station ID</th>\n",
       "      <th>Complex ID</th>\n",
       "      <th>Stop Name</th>\n",
       "      <th>Borough</th>\n",
       "      <th>CBD</th>\n",
       "      <th>Daytime Routes</th>\n",
       "      <th>Structure</th>\n",
       "      <th>GTFS Latitude</th>\n",
       "      <th>GTFS Longitude</th>\n",
       "      <th>ADA</th>\n",
       "    </tr>\n",
       "  </thead>\n",
       "  <tbody>\n",
       "    <tr>\n",
       "      <th>0</th>\n",
       "      <td>R01</td>\n",
       "      <td>1</td>\n",
       "      <td>1</td>\n",
       "      <td>Astoria-Ditmars Blvd</td>\n",
       "      <td>Q</td>\n",
       "      <td>False</td>\n",
       "      <td>N W</td>\n",
       "      <td>Elevated</td>\n",
       "      <td>40.775036</td>\n",
       "      <td>-73.912034</td>\n",
       "      <td>0</td>\n",
       "    </tr>\n",
       "    <tr>\n",
       "      <th>1</th>\n",
       "      <td>R03</td>\n",
       "      <td>2</td>\n",
       "      <td>2</td>\n",
       "      <td>Astoria Blvd</td>\n",
       "      <td>Q</td>\n",
       "      <td>False</td>\n",
       "      <td>N W</td>\n",
       "      <td>Elevated</td>\n",
       "      <td>40.770258</td>\n",
       "      <td>-73.917843</td>\n",
       "      <td>1</td>\n",
       "    </tr>\n",
       "    <tr>\n",
       "      <th>2</th>\n",
       "      <td>R04</td>\n",
       "      <td>3</td>\n",
       "      <td>3</td>\n",
       "      <td>30 Av</td>\n",
       "      <td>Q</td>\n",
       "      <td>False</td>\n",
       "      <td>N W</td>\n",
       "      <td>Elevated</td>\n",
       "      <td>40.766779</td>\n",
       "      <td>-73.921479</td>\n",
       "      <td>0</td>\n",
       "    </tr>\n",
       "    <tr>\n",
       "      <th>3</th>\n",
       "      <td>R05</td>\n",
       "      <td>4</td>\n",
       "      <td>4</td>\n",
       "      <td>Broadway</td>\n",
       "      <td>Q</td>\n",
       "      <td>False</td>\n",
       "      <td>N W</td>\n",
       "      <td>Elevated</td>\n",
       "      <td>40.761820</td>\n",
       "      <td>-73.925508</td>\n",
       "      <td>0</td>\n",
       "    </tr>\n",
       "    <tr>\n",
       "      <th>4</th>\n",
       "      <td>R06</td>\n",
       "      <td>5</td>\n",
       "      <td>5</td>\n",
       "      <td>36 Av</td>\n",
       "      <td>Q</td>\n",
       "      <td>False</td>\n",
       "      <td>N W</td>\n",
       "      <td>Elevated</td>\n",
       "      <td>40.756804</td>\n",
       "      <td>-73.929575</td>\n",
       "      <td>0</td>\n",
       "    </tr>\n",
       "    <tr>\n",
       "      <th>...</th>\n",
       "      <td>...</td>\n",
       "      <td>...</td>\n",
       "      <td>...</td>\n",
       "      <td>...</td>\n",
       "      <td>...</td>\n",
       "      <td>...</td>\n",
       "      <td>...</td>\n",
       "      <td>...</td>\n",
       "      <td>...</td>\n",
       "      <td>...</td>\n",
       "      <td>...</td>\n",
       "    </tr>\n",
       "    <tr>\n",
       "      <th>491</th>\n",
       "      <td>S15</td>\n",
       "      <td>517</td>\n",
       "      <td>517</td>\n",
       "      <td>Prince's Bay</td>\n",
       "      <td>SI</td>\n",
       "      <td>False</td>\n",
       "      <td>SIR</td>\n",
       "      <td>Open Cut</td>\n",
       "      <td>40.525507</td>\n",
       "      <td>-74.200064</td>\n",
       "      <td>0</td>\n",
       "    </tr>\n",
       "    <tr>\n",
       "      <th>492</th>\n",
       "      <td>S14</td>\n",
       "      <td>518</td>\n",
       "      <td>518</td>\n",
       "      <td>Pleasant Plains</td>\n",
       "      <td>SI</td>\n",
       "      <td>False</td>\n",
       "      <td>SIR</td>\n",
       "      <td>Embankment</td>\n",
       "      <td>40.522410</td>\n",
       "      <td>-74.217847</td>\n",
       "      <td>0</td>\n",
       "    </tr>\n",
       "    <tr>\n",
       "      <th>493</th>\n",
       "      <td>S13</td>\n",
       "      <td>519</td>\n",
       "      <td>519</td>\n",
       "      <td>Richmond Valley</td>\n",
       "      <td>SI</td>\n",
       "      <td>False</td>\n",
       "      <td>SIR</td>\n",
       "      <td>Open Cut</td>\n",
       "      <td>40.519631</td>\n",
       "      <td>-74.229141</td>\n",
       "      <td>0</td>\n",
       "    </tr>\n",
       "    <tr>\n",
       "      <th>494</th>\n",
       "      <td>S09</td>\n",
       "      <td>522</td>\n",
       "      <td>522</td>\n",
       "      <td>Tottenville</td>\n",
       "      <td>SI</td>\n",
       "      <td>False</td>\n",
       "      <td>SIR</td>\n",
       "      <td>At Grade</td>\n",
       "      <td>40.512764</td>\n",
       "      <td>-74.251961</td>\n",
       "      <td>1</td>\n",
       "    </tr>\n",
       "    <tr>\n",
       "      <th>495</th>\n",
       "      <td>S11</td>\n",
       "      <td>523</td>\n",
       "      <td>523</td>\n",
       "      <td>Arthur Kill</td>\n",
       "      <td>SI</td>\n",
       "      <td>False</td>\n",
       "      <td>SIR</td>\n",
       "      <td>At Grade</td>\n",
       "      <td>40.516578</td>\n",
       "      <td>-74.242096</td>\n",
       "      <td>1</td>\n",
       "    </tr>\n",
       "  </tbody>\n",
       "</table>\n",
       "<p>496 rows × 11 columns</p>\n",
       "</div>"
      ],
      "text/plain": [
       "    GTFS Stop ID  Station ID  Complex ID             Stop Name Borough    CBD  \\\n",
       "0            R01           1           1  Astoria-Ditmars Blvd       Q  False   \n",
       "1            R03           2           2          Astoria Blvd       Q  False   \n",
       "2            R04           3           3                 30 Av       Q  False   \n",
       "3            R05           4           4              Broadway       Q  False   \n",
       "4            R06           5           5                 36 Av       Q  False   \n",
       "..           ...         ...         ...                   ...     ...    ...   \n",
       "491          S15         517         517          Prince's Bay      SI  False   \n",
       "492          S14         518         518       Pleasant Plains      SI  False   \n",
       "493          S13         519         519       Richmond Valley      SI  False   \n",
       "494          S09         522         522           Tottenville      SI  False   \n",
       "495          S11         523         523           Arthur Kill      SI  False   \n",
       "\n",
       "    Daytime Routes   Structure  GTFS Latitude  GTFS Longitude  ADA  \n",
       "0              N W    Elevated      40.775036      -73.912034    0  \n",
       "1              N W    Elevated      40.770258      -73.917843    1  \n",
       "2              N W    Elevated      40.766779      -73.921479    0  \n",
       "3              N W    Elevated      40.761820      -73.925508    0  \n",
       "4              N W    Elevated      40.756804      -73.929575    0  \n",
       "..             ...         ...            ...             ...  ...  \n",
       "491            SIR    Open Cut      40.525507      -74.200064    0  \n",
       "492            SIR  Embankment      40.522410      -74.217847    0  \n",
       "493            SIR    Open Cut      40.519631      -74.229141    0  \n",
       "494            SIR    At Grade      40.512764      -74.251961    1  \n",
       "495            SIR    At Grade      40.516578      -74.242096    1  \n",
       "\n",
       "[496 rows x 11 columns]"
      ]
     },
     "execution_count": 56,
     "metadata": {},
     "output_type": "execute_result"
    }
   ],
   "source": [
    "# Start of question 2\n",
    "\n",
    "stations_df"
   ]
  },
  {
   "cell_type": "code",
   "execution_count": 58,
   "metadata": {},
   "outputs": [
    {
     "data": {
      "text/html": [
       "<div>\n",
       "<style scoped>\n",
       "    .dataframe tbody tr th:only-of-type {\n",
       "        vertical-align: middle;\n",
       "    }\n",
       "\n",
       "    .dataframe tbody tr th {\n",
       "        vertical-align: top;\n",
       "    }\n",
       "\n",
       "    .dataframe thead th {\n",
       "        text-align: right;\n",
       "    }\n",
       "</style>\n",
       "<table border=\"1\" class=\"dataframe\">\n",
       "  <thead>\n",
       "    <tr style=\"text-align: right;\">\n",
       "      <th></th>\n",
       "      <th>Day of Week</th>\n",
       "      <th>Hour of Day</th>\n",
       "      <th>Timestamp</th>\n",
       "      <th>Origin Station Complex ID</th>\n",
       "      <th>Destination Station Complex ID</th>\n",
       "      <th>Estimated Average Ridership</th>\n",
       "    </tr>\n",
       "  </thead>\n",
       "  <tbody>\n",
       "    <tr>\n",
       "      <th>0</th>\n",
       "      <td>Monday</td>\n",
       "      <td>1</td>\n",
       "      <td>01/08/2024 01:00:00 AM</td>\n",
       "      <td>26</td>\n",
       "      <td>355</td>\n",
       "      <td>0.5556</td>\n",
       "    </tr>\n",
       "    <tr>\n",
       "      <th>1</th>\n",
       "      <td>Monday</td>\n",
       "      <td>1</td>\n",
       "      <td>01/08/2024 01:00:00 AM</td>\n",
       "      <td>231</td>\n",
       "      <td>284</td>\n",
       "      <td>0.3068</td>\n",
       "    </tr>\n",
       "    <tr>\n",
       "      <th>2</th>\n",
       "      <td>Monday</td>\n",
       "      <td>1</td>\n",
       "      <td>01/08/2024 01:00:00 AM</td>\n",
       "      <td>313</td>\n",
       "      <td>71</td>\n",
       "      <td>0.3012</td>\n",
       "    </tr>\n",
       "    <tr>\n",
       "      <th>3</th>\n",
       "      <td>Monday</td>\n",
       "      <td>1</td>\n",
       "      <td>01/08/2024 01:00:00 AM</td>\n",
       "      <td>320</td>\n",
       "      <td>309</td>\n",
       "      <td>0.9000</td>\n",
       "    </tr>\n",
       "    <tr>\n",
       "      <th>4</th>\n",
       "      <td>Monday</td>\n",
       "      <td>1</td>\n",
       "      <td>01/08/2024 01:00:00 AM</td>\n",
       "      <td>399</td>\n",
       "      <td>618</td>\n",
       "      <td>0.2940</td>\n",
       "    </tr>\n",
       "    <tr>\n",
       "      <th>...</th>\n",
       "      <td>...</td>\n",
       "      <td>...</td>\n",
       "      <td>...</td>\n",
       "      <td>...</td>\n",
       "      <td>...</td>\n",
       "      <td>...</td>\n",
       "    </tr>\n",
       "    <tr>\n",
       "      <th>9169120</th>\n",
       "      <td>Sunday</td>\n",
       "      <td>12</td>\n",
       "      <td>01/14/2024 12:00:00 PM</td>\n",
       "      <td>426</td>\n",
       "      <td>379</td>\n",
       "      <td>0.3322</td>\n",
       "    </tr>\n",
       "    <tr>\n",
       "      <th>9169121</th>\n",
       "      <td>Sunday</td>\n",
       "      <td>12</td>\n",
       "      <td>01/14/2024 12:00:00 PM</td>\n",
       "      <td>427</td>\n",
       "      <td>613</td>\n",
       "      <td>0.7305</td>\n",
       "    </tr>\n",
       "    <tr>\n",
       "      <th>9169122</th>\n",
       "      <td>Sunday</td>\n",
       "      <td>12</td>\n",
       "      <td>01/14/2024 12:00:00 PM</td>\n",
       "      <td>32</td>\n",
       "      <td>263</td>\n",
       "      <td>0.3130</td>\n",
       "    </tr>\n",
       "    <tr>\n",
       "      <th>9169123</th>\n",
       "      <td>Sunday</td>\n",
       "      <td>12</td>\n",
       "      <td>01/14/2024 12:00:00 PM</td>\n",
       "      <td>324</td>\n",
       "      <td>407</td>\n",
       "      <td>0.8602</td>\n",
       "    </tr>\n",
       "    <tr>\n",
       "      <th>9169124</th>\n",
       "      <td>Sunday</td>\n",
       "      <td>12</td>\n",
       "      <td>01/14/2024 12:00:00 PM</td>\n",
       "      <td>606</td>\n",
       "      <td>145</td>\n",
       "      <td>0.9110</td>\n",
       "    </tr>\n",
       "  </tbody>\n",
       "</table>\n",
       "<p>9169125 rows × 6 columns</p>\n",
       "</div>"
      ],
      "text/plain": [
       "        Day of Week  Hour of Day               Timestamp  \\\n",
       "0            Monday            1  01/08/2024 01:00:00 AM   \n",
       "1            Monday            1  01/08/2024 01:00:00 AM   \n",
       "2            Monday            1  01/08/2024 01:00:00 AM   \n",
       "3            Monday            1  01/08/2024 01:00:00 AM   \n",
       "4            Monday            1  01/08/2024 01:00:00 AM   \n",
       "...             ...          ...                     ...   \n",
       "9169120      Sunday           12  01/14/2024 12:00:00 PM   \n",
       "9169121      Sunday           12  01/14/2024 12:00:00 PM   \n",
       "9169122      Sunday           12  01/14/2024 12:00:00 PM   \n",
       "9169123      Sunday           12  01/14/2024 12:00:00 PM   \n",
       "9169124      Sunday           12  01/14/2024 12:00:00 PM   \n",
       "\n",
       "         Origin Station Complex ID  Destination Station Complex ID  \\\n",
       "0                               26                             355   \n",
       "1                              231                             284   \n",
       "2                              313                              71   \n",
       "3                              320                             309   \n",
       "4                              399                             618   \n",
       "...                            ...                             ...   \n",
       "9169120                        426                             379   \n",
       "9169121                        427                             613   \n",
       "9169122                         32                             263   \n",
       "9169123                        324                             407   \n",
       "9169124                        606                             145   \n",
       "\n",
       "         Estimated Average Ridership  \n",
       "0                             0.5556  \n",
       "1                             0.3068  \n",
       "2                             0.3012  \n",
       "3                             0.9000  \n",
       "4                             0.2940  \n",
       "...                              ...  \n",
       "9169120                       0.3322  \n",
       "9169121                       0.7305  \n",
       "9169122                       0.3130  \n",
       "9169123                       0.8602  \n",
       "9169124                       0.9110  \n",
       "\n",
       "[9169125 rows x 6 columns]"
      ]
     },
     "execution_count": 58,
     "metadata": {},
     "output_type": "execute_result"
    }
   ],
   "source": [
    "ridership_df"
   ]
  },
  {
   "cell_type": "code",
   "execution_count": 193,
   "metadata": {},
   "outputs": [
    {
     "name": "stdout",
     "output_type": "stream",
     "text": [
      "Top 5 destination stations in M: [(611, 474085.95449999993), (610, 344473.241499999), (607, 224767.6016999997), (602, 214544.4496000014), (614, 202620.20410000192)]\n",
      "Top 5 destination stations in Bk: [(617, 103014.17409999992), (636, 61373.84730000002), (620, 49045.45229999993), (120, 41980.954599999925), (51, 38973.033599999886)]\n",
      "Top 5 destination stations in Q: [(616, 108329.40600000016), (447, 107684.79850000006), (450, 48124.09640000009), (451, 45009.05699999996), (261, 42103.076000000045)]\n",
      "Top 5 destination stations in Bx: [(604, 20726.217900000065), (434, 18685.011900000067), (366, 13192.732900000037), (371, 12729.468700000025), (603, 12475.006900000006)]\n",
      "Top 5 destination stations in SI: []\n"
     ]
    }
   ],
   "source": [
    "# 2a\n",
    "for borough in [\"M\", \"Bk\", \"Q\", \"Bx\", \"SI\"]:\n",
    "    borough_nodes = [n for n, d in G.nodes(data=True) if d[\"borough\"] == borough]\n",
    "\n",
    "    borough_subgraph = G.subgraph(borough_nodes)\n",
    "\n",
    "    aggregated_ridership = {}\n",
    "\n",
    "    for u, v, data in borough_subgraph.edges(data=True):\n",
    "        if v not in aggregated_ridership:\n",
    "            aggregated_ridership[v] = 0\n",
    "        \n",
    "        for trip in data[\"trips\"]:\n",
    "            aggregated_ridership[v] += trip[\"ridership\"]\n",
    "\n",
    "    top_5_destinations = sorted(aggregated_ridership.items(), key=lambda x: x[1], reverse=True)[:5]\n",
    "\n",
    "    print(f\"Top 5 destination stations in {borough}: {top_5_destinations}\")"
   ]
  },
  {
   "cell_type": "code",
   "execution_count": 197,
   "metadata": {},
   "outputs": [
    {
     "data": {
      "text/plain": [
       "[(611, 254027.9514999997),\n",
       " (610, 193929.8707),\n",
       " (607, 146122.45520000084),\n",
       " (602, 137625.25149999914),\n",
       " (628, 112550.08569999952)]"
      ]
     },
     "execution_count": 197,
     "metadata": {},
     "output_type": "execute_result"
    }
   ],
   "source": [
    "# 2b\n",
    "aggregated_ridership = {}\n",
    "\n",
    "for u, v, data in G.edges(data=True):\n",
    "    if v not in aggregated_ridership:\n",
    "        aggregated_ridership[v] = 0\n",
    "\n",
    "    for trip in data[\"trips\"]:\n",
    "        if trip[\"day_of_week\"] in [\"Thursday\", \"Friday\"]:\n",
    "            aggregated_ridership[v] += trip[\"ridership\"]\n",
    "\n",
    "top_5_destinations_tf = sorted(\n",
    "    aggregated_ridership.items(), key=lambda x: x[1], reverse=True\n",
    ")[:5]\n",
    "\n",
    "top_5_destinations_tf"
   ]
  },
  {
   "cell_type": "code",
   "execution_count": 201,
   "metadata": {},
   "outputs": [
    {
     "data": {
      "text/plain": [
       "[(611, 82215.39059999987),\n",
       " (607, 48560.38809999996),\n",
       " (602, 48271.31670000008),\n",
       " (610, 40886.469899999924),\n",
       " (164, 35605.25350000009)]"
      ]
     },
     "execution_count": 201,
     "metadata": {},
     "output_type": "execute_result"
    }
   ],
   "source": [
    "# 2c\n",
    "aggregated_ridership = {}\n",
    "\n",
    "for u, v, data in G.edges(data=True):\n",
    "    if v not in aggregated_ridership:\n",
    "        aggregated_ridership[v] = 0\n",
    "\n",
    "    for trip in data[\"trips\"]:\n",
    "        if trip[\"day_of_week\"] in [\"Saturday\"]:\n",
    "            aggregated_ridership[v] += trip[\"ridership\"]\n",
    "\n",
    "top_5_origins_sat = sorted(\n",
    "    aggregated_ridership.items(), key=lambda x: x[1], reverse=True\n",
    ")[:5]\n",
    "\n",
    "top_5_origins_sat"
   ]
  },
  {
   "cell_type": "code",
   "execution_count": 92,
   "metadata": {},
   "outputs": [
    {
     "data": {
      "text/plain": [
       "[0,\n",
       " 1,\n",
       " 2,\n",
       " 3,\n",
       " 4,\n",
       " 5,\n",
       " 6,\n",
       " 7,\n",
       " 8,\n",
       " 9,\n",
       " 10,\n",
       " 11,\n",
       " 12,\n",
       " 13,\n",
       " 14,\n",
       " 15,\n",
       " 16,\n",
       " 17,\n",
       " 18,\n",
       " 19,\n",
       " 20,\n",
       " 21,\n",
       " 22,\n",
       " 23]"
      ]
     },
     "execution_count": 92,
     "metadata": {},
     "output_type": "execute_result"
    }
   ],
   "source": [
    "sorted(ridership_df['Hour of Day'].unique())"
   ]
  },
  {
   "cell_type": "code",
   "execution_count": 221,
   "metadata": {},
   "outputs": [
    {
     "data": {
      "text/plain": [
       "[(611, 24700.964199999948),\n",
       " (610, 19211.66700000001),\n",
       " (607, 13386.72769999996),\n",
       " (616, 12220.43559999997),\n",
       " (628, 12128.324100000027)]"
      ]
     },
     "execution_count": 221,
     "metadata": {},
     "output_type": "execute_result"
    }
   ],
   "source": [
    "# 2d\n",
    "# Between 12am-5am across all days and boroughs\n",
    "\n",
    "aggregated_ridership = {}\n",
    "\n",
    "for u, v, data in G.edges(data=True):\n",
    "    if v not in aggregated_ridership:\n",
    "        aggregated_ridership[v] = 0\n",
    "    for trip in data[\"trips\"]:\n",
    "        if 0 <= trip[\"hour_of_day\"] <= 5:\n",
    "            aggregated_ridership[v] += trip[\"ridership\"]\n",
    "\n",
    "top_5_destinations_midnight_to_morning = sorted(\n",
    "    aggregated_ridership.items(), key=lambda x: x[1], reverse=True\n",
    ")[:5]\n",
    "\n",
    "top_5_destinations_midnight_to_morning"
   ]
  },
  {
   "cell_type": "code",
   "execution_count": 223,
   "metadata": {},
   "outputs": [
    {
     "data": {
      "text/plain": [
       "Destination Station Complex ID\n",
       "611    24700.9642\n",
       "610    19211.6670\n",
       "607    13386.7277\n",
       "616    12220.4356\n",
       "628    12128.3241\n",
       "Name: Estimated Average Ridership, dtype: float64"
      ]
     },
     "execution_count": 223,
     "metadata": {},
     "output_type": "execute_result"
    }
   ],
   "source": [
    "# Check again for 12am to 5am\n",
    "filtered_df = ridership_df[\n",
    "    (ridership_df[\"Hour of Day\"] >= 0) & (ridership_df[\"Hour of Day\"] <= 5)\n",
    "]\n",
    "\n",
    "destination_ridership = filtered_df.groupby(\"Destination Station Complex ID\")[\n",
    "    \"Estimated Average Ridership\"\n",
    "].sum()\n",
    "\n",
    "top_5_destinations_df = destination_ridership.sort_values(ascending=False).head(5)\n",
    "\n",
    "top_5_destinations_df"
   ]
  },
  {
   "cell_type": "code",
   "execution_count": 225,
   "metadata": {},
   "outputs": [
    {
     "data": {
      "text/plain": [
       "[(611, 130974.97279999986),\n",
       " (610, 67513.95080000036),\n",
       " (607, 63408.88060000024),\n",
       " (616, 62489.09310000007),\n",
       " (602, 60015.50270000017)]"
      ]
     },
     "execution_count": 225,
     "metadata": {},
     "output_type": "execute_result"
    }
   ],
   "source": [
    "# 2e\n",
    "# Between 6pm-9pm across all days and boroughs\n",
    "aggregated_ridership = {}\n",
    "\n",
    "for u, v, data in G.edges(data=True):\n",
    "    if v not in aggregated_ridership:\n",
    "        aggregated_ridership[v] = 0\n",
    "    for trip in data[\"trips\"]:\n",
    "        if 18 <= trip[\"hour_of_day\"] <= 21:\n",
    "            aggregated_ridership[v] += trip[\"ridership\"]\n",
    "\n",
    "top_5_destinations_dusk = sorted(\n",
    "    aggregated_ridership.items(), key=lambda x: x[1], reverse=True\n",
    ")[:5]\n",
    "\n",
    "top_5_destinations_dusk"
   ]
  },
  {
   "cell_type": "code",
   "execution_count": 227,
   "metadata": {},
   "outputs": [
    {
     "data": {
      "text/plain": [
       "Destination Station Complex ID\n",
       "611    130974.9728\n",
       "610     67513.9508\n",
       "607     63408.8806\n",
       "616     62489.0931\n",
       "602     60015.5027\n",
       "Name: Estimated Average Ridership, dtype: float64"
      ]
     },
     "execution_count": 227,
     "metadata": {},
     "output_type": "execute_result"
    }
   ],
   "source": [
    "# Check again for 6pm to 9pm\n",
    "filtered_df = ridership_df[\n",
    "    (ridership_df[\"Hour of Day\"] >= 18) & (ridership_df[\"Hour of Day\"] <= 21)\n",
    "]\n",
    "\n",
    "destination_ridership = filtered_df.groupby(\"Destination Station Complex ID\")[\n",
    "    \"Estimated Average Ridership\"\n",
    "].sum()\n",
    "\n",
    "top_5_destinations_df2 = destination_ridership.sort_values(ascending=False).head(5)\n",
    "\n",
    "top_5_destinations_df2 # They are the same"
   ]
  },
  {
   "cell_type": "code",
   "execution_count": 334,
   "metadata": {},
   "outputs": [
    {
     "data": {
      "text/plain": [
       "[((610, 611), 282.2022),\n",
       " ((447, 450), 273.77160000000003),\n",
       " ((628, 610), 272.3798),\n",
       " ((447, 451), 271.3252),\n",
       " ((610, 602), 270.66179999999997),\n",
       " ((447, 616), 259.85699999999997),\n",
       " ((602, 610), 255.8078),\n",
       " ((451, 447), 239.9478),\n",
       " ((611, 610), 232.1258),\n",
       " ((610, 628), 231.0762)]"
      ]
     },
     "execution_count": 334,
     "metadata": {},
     "output_type": "execute_result"
    }
   ],
   "source": [
    "# Start of question 3\n",
    "# Monday between 1pm-2pm?\n",
    "\n",
    "aggregated_ridership = {}\n",
    "\n",
    "for u, v, data in G.edges(data=True):\n",
    "    if (u,v) not in aggregated_ridership:\n",
    "        aggregated_ridership[(u, v)] = 0\n",
    "\n",
    "    for trip in data[\"trips\"]:\n",
    "        if (trip[\"day_of_week\"] in [\"Monday\"]) and (13 <= trip[\"hour_of_day\"] <= 14):\n",
    "            aggregated_ridership[(u, v)] += trip[\"ridership\"]\n",
    "\n",
    "top_10_pairs_tf = sorted(\n",
    "    aggregated_ridership.items(), key=lambda x: x[1], reverse=True\n",
    ")[:10]\n",
    "\n",
    "top_10_pairs_tf\n"
   ]
  },
  {
   "cell_type": "code",
   "execution_count": 338,
   "metadata": {},
   "outputs": [
    {
     "name": "stdout",
     "output_type": "stream",
     "text": [
      "Top 10 station pairs in Q: [((447, 616), 645.8218), ((447, 450), 644.121), ((447, 451), 593.8203), ((451, 447), 433.6342), ((447, 452), 385.55960000000005), ((616, 447), 345.3137), ((450, 447), 278.0807), ((447, 449), 240.2326), ((453, 447), 235.28950000000003), ((616, 254), 222.0617)]\n"
     ]
    }
   ],
   "source": [
    "# question 3b \n",
    "# On Queens borough, on Fridays between 6pm-9pm?\n",
    "\n",
    "for borough in [\"Q\"]:\n",
    "    borough_nodes = [n for n, d in G.nodes(data=True) if d[\"borough\"] == borough]\n",
    "\n",
    "    borough_subgraph = G.subgraph(borough_nodes)\n",
    "\n",
    "    aggregated_ridership = {}\n",
    "\n",
    "    for u, v, data in borough_subgraph.edges(data=True):\n",
    "        if (u,v) not in aggregated_ridership:\n",
    "            aggregated_ridership[(u,v)] = 0\n",
    "        \n",
    "        for trip in data[\"trips\"]:\n",
    "            if (trip[\"day_of_week\"] in [\"Friday\"]) and (18 <= trip[\"hour_of_day\"] <= 21):\n",
    "            \n",
    "                aggregated_ridership[(u,v)] += trip[\"ridership\"]\n",
    "\n",
    "    top_10_queens = sorted(aggregated_ridership.items(), key=lambda x: x[1], reverse=True)[:10]\n",
    "\n",
    "    print(f\"Top 10 station pairs in {borough}: {top_10_queens}\")"
   ]
  },
  {
   "cell_type": "code",
   "execution_count": 340,
   "metadata": {},
   "outputs": [
    {
     "name": "stdout",
     "output_type": "stream",
     "text": [
      "Top 10 station pairs in Bk: [((345, 617), 136.07070000000002), ((359, 617), 107.77689999999997), ((120, 630), 104.99919999999999), ((345, 620), 104.1418), ((630, 120), 93.29039999999999), ((345, 337), 92.5102), ((188, 636), 92.49589999999999), ((617, 32), 86.25559999999999), ((120, 127), 86.00580000000001), ((629, 630), 77.3768)]\n"
     ]
    }
   ],
   "source": [
    "# question 3c\n",
    "\n",
    "# On Brooklyn borough, Ridership between 1am-5am?\n",
    "for borough in [\"Bk\"]:\n",
    "    borough_nodes = [n for n, d in G.nodes(data=True) if d[\"borough\"] == borough]\n",
    "\n",
    "    borough_subgraph = G.subgraph(borough_nodes)\n",
    "\n",
    "    aggregated_ridership = {}\n",
    "\n",
    "    for u, v, data in borough_subgraph.edges(data=True):\n",
    "        if (u,v) not in aggregated_ridership:\n",
    "            aggregated_ridership[(u,v)] = 0\n",
    "        \n",
    "        for trip in data[\"trips\"]:\n",
    "            if (trip[\"day_of_week\"] in [\"Monday\", \"Tuesday\", \"Wednesday\", \"Thursday\", \"Friday\", \"Saturday\", \"Sunday\"]) and (1 <= trip[\"hour_of_day\"] <= 5):\n",
    "            \n",
    "                aggregated_ridership[(u,v)] += trip[\"ridership\"]\n",
    "\n",
    "    top_10_brooklyn = sorted(aggregated_ridership.items(), key=lambda x: x[1], reverse=True)[:10]\n",
    "\n",
    "    print(f\"Top 10 station pairs in {borough}: {top_10_brooklyn}\")"
   ]
  },
  {
   "cell_type": "code",
   "execution_count": 277,
   "metadata": {},
   "outputs": [],
   "source": [
    "#stations_df.groupby(station_df['Borough'] == 'Bk' )\n",
    "stations_df_new = stations_df[stations_df['Borough'] == 'M']"
   ]
  },
  {
   "cell_type": "code",
   "execution_count": 299,
   "metadata": {},
   "outputs": [
    {
     "data": {
      "text/html": [
       "<div>\n",
       "<style scoped>\n",
       "    .dataframe tbody tr th:only-of-type {\n",
       "        vertical-align: middle;\n",
       "    }\n",
       "\n",
       "    .dataframe tbody tr th {\n",
       "        vertical-align: top;\n",
       "    }\n",
       "\n",
       "    .dataframe thead th {\n",
       "        text-align: right;\n",
       "    }\n",
       "</style>\n",
       "<table border=\"1\" class=\"dataframe\">\n",
       "  <thead>\n",
       "    <tr style=\"text-align: right;\">\n",
       "      <th></th>\n",
       "      <th>GTFS Stop ID</th>\n",
       "      <th>Station ID</th>\n",
       "      <th>Complex ID</th>\n",
       "      <th>Stop Name</th>\n",
       "      <th>Borough</th>\n",
       "      <th>CBD</th>\n",
       "      <th>Daytime Routes</th>\n",
       "      <th>Structure</th>\n",
       "      <th>GTFS Latitude</th>\n",
       "      <th>GTFS Longitude</th>\n",
       "      <th>ADA</th>\n",
       "    </tr>\n",
       "  </thead>\n",
       "  <tbody>\n",
       "    <tr>\n",
       "      <th>118</th>\n",
       "      <td>L06</td>\n",
       "      <td>119</td>\n",
       "      <td>119</td>\n",
       "      <td>1 Av</td>\n",
       "      <td>M</td>\n",
       "      <td>True</td>\n",
       "      <td>L</td>\n",
       "      <td>Subway</td>\n",
       "      <td>40.730953</td>\n",
       "      <td>-73.981628</td>\n",
       "      <td>1</td>\n",
       "    </tr>\n",
       "  </tbody>\n",
       "</table>\n",
       "</div>"
      ],
      "text/plain": [
       "    GTFS Stop ID  Station ID  Complex ID Stop Name Borough   CBD  \\\n",
       "118          L06         119         119      1 Av       M  True   \n",
       "\n",
       "    Daytime Routes Structure  GTFS Latitude  GTFS Longitude  ADA  \n",
       "118              L    Subway      40.730953      -73.981628    1  "
      ]
     },
     "execution_count": 299,
     "metadata": {},
     "output_type": "execute_result"
    }
   ],
   "source": [
    "stations_df_new.loc[stations_df_new['Station ID'] == 119]\n"
   ]
  },
  {
   "cell_type": "code",
   "execution_count": 269,
   "metadata": {},
   "outputs": [],
   "source": [
    "\n",
    "brooklyn_nodes = [n for n, d in G.nodes(data=True) if d[\"borough\"] == \"Bk\"]\n",
    "manhattan_nodes = [n for n, d in G.nodes(data=True) if d[\"borough\"] == \"M\"]\n",
    "\n",
    "\n",
    "\n",
    "\n",
    "\n"
   ]
  },
  {
   "cell_type": "code",
   "execution_count": 271,
   "metadata": {},
   "outputs": [
    {
     "data": {
      "text/plain": [
       "[620,\n",
       " 636,\n",
       " 26,\n",
       " 617,\n",
       " 28,\n",
       " 608,\n",
       " 30,\n",
       " 31,\n",
       " 32,\n",
       " 33,\n",
       " 34,\n",
       " 35,\n",
       " 36,\n",
       " 37,\n",
       " 38,\n",
       " 39,\n",
       " 41,\n",
       " 42,\n",
       " 43,\n",
       " 44,\n",
       " 45,\n",
       " 46,\n",
       " 47,\n",
       " 48,\n",
       " 49,\n",
       " 50,\n",
       " 51,\n",
       " 52,\n",
       " 53,\n",
       " 54,\n",
       " 55,\n",
       " 56,\n",
       " 57,\n",
       " 58,\n",
       " 59,\n",
       " 60,\n",
       " 61,\n",
       " 62,\n",
       " 615,\n",
       " 64,\n",
       " 65,\n",
       " 66,\n",
       " 67,\n",
       " 68,\n",
       " 69,\n",
       " 70,\n",
       " 71,\n",
       " 72,\n",
       " 74,\n",
       " 75,\n",
       " 76,\n",
       " 77,\n",
       " 78,\n",
       " 79,\n",
       " 86,\n",
       " 87,\n",
       " 88,\n",
       " 89,\n",
       " 90,\n",
       " 91,\n",
       " 621,\n",
       " 93,\n",
       " 94,\n",
       " 95,\n",
       " 96,\n",
       " 97,\n",
       " 98,\n",
       " 99,\n",
       " 100,\n",
       " 101,\n",
       " 630,\n",
       " 113,\n",
       " 114,\n",
       " 120,\n",
       " 629,\n",
       " 122,\n",
       " 123,\n",
       " 124,\n",
       " 125,\n",
       " 126,\n",
       " 127,\n",
       " 130,\n",
       " 131,\n",
       " 133,\n",
       " 134,\n",
       " 135,\n",
       " 136,\n",
       " 137,\n",
       " 138,\n",
       " 627,\n",
       " 141,\n",
       " 626,\n",
       " 173,\n",
       " 175,\n",
       " 176,\n",
       " 177,\n",
       " 179,\n",
       " 180,\n",
       " 181,\n",
       " 182,\n",
       " 183,\n",
       " 185,\n",
       " 186,\n",
       " 187,\n",
       " 188,\n",
       " 189,\n",
       " 235,\n",
       " 236,\n",
       " 237,\n",
       " 238,\n",
       " 240,\n",
       " 241,\n",
       " 242,\n",
       " 243,\n",
       " 244,\n",
       " 245,\n",
       " 246,\n",
       " 247,\n",
       " 248,\n",
       " 249,\n",
       " 250,\n",
       " 251,\n",
       " 252,\n",
       " 253,\n",
       " 283,\n",
       " 284,\n",
       " 286,\n",
       " 287,\n",
       " 288,\n",
       " 289,\n",
       " 290,\n",
       " 291,\n",
       " 292,\n",
       " 334,\n",
       " 336,\n",
       " 337,\n",
       " 339,\n",
       " 340,\n",
       " 341,\n",
       " 343,\n",
       " 344,\n",
       " 345,\n",
       " 346,\n",
       " 347,\n",
       " 348,\n",
       " 349,\n",
       " 350,\n",
       " 351,\n",
       " 352,\n",
       " 353,\n",
       " 354,\n",
       " 355,\n",
       " 356,\n",
       " 357,\n",
       " 358,\n",
       " 359]"
      ]
     },
     "execution_count": 271,
     "metadata": {},
     "output_type": "execute_result"
    }
   ],
   "source": [
    "brooklyn_nodes"
   ]
  },
  {
   "cell_type": "code",
   "execution_count": 273,
   "metadata": {},
   "outputs": [
    {
     "data": {
      "text/plain": [
       "[613,\n",
       " 8,\n",
       " 9,\n",
       " 10,\n",
       " 611,\n",
       " 607,\n",
       " 13,\n",
       " 14,\n",
       " 602,\n",
       " 16,\n",
       " 17,\n",
       " 623,\n",
       " 20,\n",
       " 624,\n",
       " 22,\n",
       " 635,\n",
       " 625,\n",
       " 103,\n",
       " 622,\n",
       " 628,\n",
       " 107,\n",
       " 618,\n",
       " 601,\n",
       " 118,\n",
       " 119,\n",
       " 143,\n",
       " 144,\n",
       " 145,\n",
       " 146,\n",
       " 147,\n",
       " 605,\n",
       " 149,\n",
       " 150,\n",
       " 151,\n",
       " 152,\n",
       " 153,\n",
       " 154,\n",
       " 155,\n",
       " 156,\n",
       " 157,\n",
       " 158,\n",
       " 159,\n",
       " 160,\n",
       " 614,\n",
       " 162,\n",
       " 164,\n",
       " 165,\n",
       " 167,\n",
       " 168,\n",
       " 169,\n",
       " 220,\n",
       " 222,\n",
       " 223,\n",
       " 224,\n",
       " 225,\n",
       " 609,\n",
       " 228,\n",
       " 619,\n",
       " 231,\n",
       " 232,\n",
       " 234,\n",
       " 612,\n",
       " 276,\n",
       " 277,\n",
       " 296,\n",
       " 297,\n",
       " 298,\n",
       " 299,\n",
       " 300,\n",
       " 301,\n",
       " 303,\n",
       " 304,\n",
       " 305,\n",
       " 306,\n",
       " 307,\n",
       " 308,\n",
       " 309,\n",
       " 310,\n",
       " 311,\n",
       " 312,\n",
       " 313,\n",
       " 314,\n",
       " 316,\n",
       " 318,\n",
       " 319,\n",
       " 320,\n",
       " 321,\n",
       " 323,\n",
       " 324,\n",
       " 325,\n",
       " 326,\n",
       " 327,\n",
       " 328,\n",
       " 329,\n",
       " 333,\n",
       " 392,\n",
       " 393,\n",
       " 394,\n",
       " 395,\n",
       " 396,\n",
       " 397,\n",
       " 398,\n",
       " 399,\n",
       " 610,\n",
       " 403,\n",
       " 404,\n",
       " 405,\n",
       " 407,\n",
       " 409,\n",
       " 413,\n",
       " 414,\n",
       " 436,\n",
       " 437,\n",
       " 438,\n",
       " 439,\n",
       " 440,\n",
       " 441,\n",
       " 471,\n",
       " 475,\n",
       " 476,\n",
       " 477]"
      ]
     },
     "execution_count": 273,
     "metadata": {},
     "output_type": "execute_result"
    }
   ],
   "source": [
    "manhattan_nodes"
   ]
  },
  {
   "cell_type": "code",
   "execution_count": 255,
   "metadata": {},
   "outputs": [
    {
     "data": {
      "text/plain": [
       "[620,\n",
       " 636,\n",
       " 26,\n",
       " 617,\n",
       " 28,\n",
       " 608,\n",
       " 30,\n",
       " 31,\n",
       " 32,\n",
       " 33,\n",
       " 34,\n",
       " 35,\n",
       " 36,\n",
       " 37,\n",
       " 38,\n",
       " 39,\n",
       " 41,\n",
       " 42,\n",
       " 43,\n",
       " 44,\n",
       " 45,\n",
       " 46,\n",
       " 47,\n",
       " 48,\n",
       " 49,\n",
       " 50,\n",
       " 51,\n",
       " 52,\n",
       " 53,\n",
       " 54,\n",
       " 55,\n",
       " 56,\n",
       " 57,\n",
       " 58,\n",
       " 59,\n",
       " 60,\n",
       " 61,\n",
       " 62,\n",
       " 615,\n",
       " 64,\n",
       " 65,\n",
       " 66,\n",
       " 67,\n",
       " 68,\n",
       " 69,\n",
       " 70,\n",
       " 71,\n",
       " 72,\n",
       " 74,\n",
       " 75,\n",
       " 76,\n",
       " 77,\n",
       " 78,\n",
       " 79,\n",
       " 86,\n",
       " 87,\n",
       " 88,\n",
       " 89,\n",
       " 90,\n",
       " 91,\n",
       " 621,\n",
       " 93,\n",
       " 94,\n",
       " 95,\n",
       " 96,\n",
       " 97,\n",
       " 98,\n",
       " 99,\n",
       " 100,\n",
       " 101,\n",
       " 630,\n",
       " 113,\n",
       " 114,\n",
       " 120,\n",
       " 629,\n",
       " 122,\n",
       " 123,\n",
       " 124,\n",
       " 125,\n",
       " 126,\n",
       " 127,\n",
       " 130,\n",
       " 131,\n",
       " 133,\n",
       " 134,\n",
       " 135,\n",
       " 136,\n",
       " 137,\n",
       " 138,\n",
       " 627,\n",
       " 141,\n",
       " 626,\n",
       " 173,\n",
       " 175,\n",
       " 176,\n",
       " 177,\n",
       " 179,\n",
       " 180,\n",
       " 181,\n",
       " 182,\n",
       " 183,\n",
       " 185,\n",
       " 186,\n",
       " 187,\n",
       " 188,\n",
       " 189,\n",
       " 235,\n",
       " 236,\n",
       " 237,\n",
       " 238,\n",
       " 240,\n",
       " 241,\n",
       " 242,\n",
       " 243,\n",
       " 244,\n",
       " 245,\n",
       " 246,\n",
       " 247,\n",
       " 248,\n",
       " 249,\n",
       " 250,\n",
       " 251,\n",
       " 252,\n",
       " 253,\n",
       " 283,\n",
       " 284,\n",
       " 286,\n",
       " 287,\n",
       " 288,\n",
       " 289,\n",
       " 290,\n",
       " 291,\n",
       " 292,\n",
       " 334,\n",
       " 336,\n",
       " 337,\n",
       " 339,\n",
       " 340,\n",
       " 341,\n",
       " 343,\n",
       " 344,\n",
       " 345,\n",
       " 346,\n",
       " 347,\n",
       " 348,\n",
       " 349,\n",
       " 350,\n",
       " 351,\n",
       " 352,\n",
       " 353,\n",
       " 354,\n",
       " 355,\n",
       " 356,\n",
       " 357,\n",
       " 358,\n",
       " 359]"
      ]
     },
     "execution_count": 255,
     "metadata": {},
     "output_type": "execute_result"
    }
   ],
   "source": [
    "brooklyn_nodes = [n for n, d in G.nodes(data=True) if d[\"borough\"] == \"Bk\"]\n",
    "manhattan_nodes = [n for n, d in G.nodes(data=True) if d[\"borough\"] == \"M\"]\n",
    "\n",
    "brooklyn_nodes\n",
    "\n",
    "\n"
   ]
  },
  {
   "cell_type": "code",
   "execution_count": 323,
   "metadata": {},
   "outputs": [
    {
     "name": "stdout",
     "output_type": "stream",
     "text": [
      "Top 10 station pairs in from brooklyn to manhattan: [((617, 414), 1029.6122999999998), ((345, 610), 692.6152000000001), ((51, 607), 655.3457000000001), ((620, 610), 653.3663), ((359, 610), 589.2357), ((345, 628), 580.2716), ((359, 628), 557.0980999999999), ((120, 610), 555.5914), ((51, 225), 503.5513), ((54, 225), 478.5522)]\n"
     ]
    }
   ],
   "source": [
    "# 3d\n",
    "\n",
    "# Source is Brooklyn, Destination is Manhattan, Monday-Thursday 6am-7am?\n",
    "\n",
    "brooklyn_nodes = [n for n, d in G.nodes(data=True) if d[\"borough\"] == \"Bk\"]\n",
    "manhattan_nodes = [n for n, d in G.nodes(data=True) if d[\"borough\"] == \"M\"]\n",
    "\n",
    "borough_nodes = [n for n, d in G.nodes(data=True) if (d[\"borough\"] == \"Bk\" or d['borough'] == \"M\")]\n",
    "    \n",
    "\n",
    "borough_subgraph = G.subgraph(borough_nodes)\n",
    "\n",
    "aggregated_ridership = {}\n",
    "\n",
    "for u, v, data in borough_subgraph.edges(data=True):\n",
    "        \n",
    "    if borough_subgraph.nodes[u]['borough'] == \"Bk\" and borough_subgraph.nodes[v]['borough'] == \"M\":\n",
    "            \n",
    "        if (u,v) not in aggregated_ridership:\n",
    "            aggregated_ridership[(u,v)] = 0\n",
    "        \n",
    "        for trip in data[\"trips\"]:\n",
    "            if (trip[\"day_of_week\"] in [\"Monday\", \"Tuesday\", \"Wednesday\", \"Thursday\"]) and (6 <= trip[\"hour_of_day\"] <= 7):\n",
    "            \n",
    "                aggregated_ridership[(u,v)] += trip[\"ridership\"]\n",
    "\n",
    "top_10_bk_to_m = sorted(aggregated_ridership.items(), key=lambda x: x[1], reverse=True)[:10]\n",
    "\n",
    "print(f\"Top 10 station pairs in from brooklyn to manhattan: {top_10_bk_to_m}\")"
   ]
  },
  {
   "cell_type": "code",
   "execution_count": 329,
   "metadata": {},
   "outputs": [
    {
     "name": "stdout",
     "output_type": "stream",
     "text": [
      "Top 10 station pairs in from bronx to manhattan: [((366, 610), 562.2564), ((366, 602), 402.36749999999995), ((366, 392), 395.6825), ((366, 399), 383.7979), ((366, 397), 372.9343), ((366, 612), 357.86589999999995), ((366, 628), 346.6705), ((366, 622), 320.3933), ((604, 614), 306.00469999999996), ((378, 397), 302.63100000000003)]\n"
     ]
    }
   ],
   "source": [
    "# 3e\n",
    "bronx_nodes = [n for n, d in G.nodes(data=True) if d[\"borough\"] == \"Bx\"]\n",
    "manhattan_nodes = [n for n, d in G.nodes(data=True) if d[\"borough\"] == \"M\"]\n",
    "\n",
    "borough_nodes = [n for n, d in G.nodes(data=True) if (d[\"borough\"] == \"Bx\" or d['borough'] == \"M\")]\n",
    "    \n",
    "\n",
    "borough_subgraph = G.subgraph(borough_nodes)\n",
    "\n",
    "aggregated_ridership = {}\n",
    "\n",
    "for u, v, data in borough_subgraph.edges(data=True):\n",
    "        \n",
    "    if borough_subgraph.nodes[u]['borough'] == \"Bx\" and borough_subgraph.nodes[v]['borough'] == \"M\":\n",
    "            \n",
    "        if (u,v) not in aggregated_ridership:\n",
    "            aggregated_ridership[(u,v)] = 0\n",
    "        \n",
    "        for trip in data[\"trips\"]:\n",
    "            if (trip[\"day_of_week\"] in [\"Monday\", \"Tuesday\", \"Wednesday\", \"Thursday\"]) and (6 <= trip[\"hour_of_day\"] <= 7):\n",
    "            \n",
    "                aggregated_ridership[(u,v)] += trip[\"ridership\"]\n",
    "\n",
    "top_10_bx_to_m = sorted(aggregated_ridership.items(), key=lambda x: x[1], reverse=True)[:10]\n",
    "\n",
    "print(f\"Top 10 station pairs in from bronx to manhattan: {top_10_bx_to_m}\")\n",
    "\n",
    "\n"
   ]
  },
  {
   "cell_type": "code",
   "execution_count": 331,
   "metadata": {},
   "outputs": [
    {
     "name": "stdout",
     "output_type": "stream",
     "text": [
      "Top 10 station pairs in from staten island to manhattan: []\n"
     ]
    }
   ],
   "source": [
    "# 3f\n",
    "\n",
    "statenisland_nodes = [n for n, d in G.nodes(data=True) if d[\"borough\"] == \"SI\"]\n",
    "manhattan_nodes = [n for n, d in G.nodes(data=True) if d[\"borough\"] == \"M\"]\n",
    "\n",
    "borough_nodes = [n for n, d in G.nodes(data=True) if (d[\"borough\"] == \"SI\" or d['borough'] == \"M\")]\n",
    "    \n",
    "\n",
    "borough_subgraph = G.subgraph(borough_nodes)\n",
    "\n",
    "aggregated_ridership = {}\n",
    "\n",
    "for u, v, data in borough_subgraph.edges(data=True):\n",
    "        \n",
    "    if borough_subgraph.nodes[u]['borough'] == \"SI\" and borough_subgraph.nodes[v]['borough'] == \"M\":\n",
    "            \n",
    "        if (u,v) not in aggregated_ridership:\n",
    "            aggregated_ridership[(u,v)] = 0\n",
    "        \n",
    "        for trip in data[\"trips\"]:\n",
    "            if (trip[\"day_of_week\"] in [\"Monday\", \"Tuesday\", \"Wednesday\", \"Thursday\"]) and (6 <= trip[\"hour_of_day\"] <= 7):\n",
    "            \n",
    "                aggregated_ridership[(u,v)] += trip[\"ridership\"]\n",
    "\n",
    "top_10_si_to_m = sorted(aggregated_ridership.items(), key=lambda x: x[1], reverse=True)[:10]\n",
    "\n",
    "print(f\"Top 10 station pairs in from staten island to manhattan: {top_10_si_to_m}\")\n"
   ]
  }
 ],
 "metadata": {
  "kernelspec": {
   "display_name": "Python 3 (ipykernel)",
   "language": "python",
   "name": "python3"
  },
  "language_info": {
   "codemirror_mode": {
    "name": "ipython",
    "version": 3
   },
   "file_extension": ".py",
   "mimetype": "text/x-python",
   "name": "python",
   "nbconvert_exporter": "python",
   "pygments_lexer": "ipython3",
   "version": "3.12.2"
  }
 },
 "nbformat": 4,
 "nbformat_minor": 4
}
